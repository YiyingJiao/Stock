{
  "nbformat": 4,
  "nbformat_minor": 0,
  "metadata": {
    "colab": {
      "provenance": []
    },
    "kernelspec": {
      "name": "python3",
      "display_name": "Python 3"
    },
    "language_info": {
      "name": "python"
    }
  },
  "cells": [
    {
      "cell_type": "code",
      "source": [
        "#Author: Yiying Jiao\n",
        "#Step 5 for if we need to add new rows of data to our dataset\n",
        "#or\n",
        "#for choosing and getting rid of features we want to use"
      ],
      "metadata": {
        "id": "IVPPBHM6DG4d"
      },
      "execution_count": null,
      "outputs": []
    },
    {
      "cell_type": "code",
      "execution_count": 2,
      "metadata": {
        "colab": {
          "base_uri": "https://localhost:8080/"
        },
        "id": "f_pwuBZ8cIlB",
        "outputId": "af253477-3bee-410b-e6ee-0c273fd1e649"
      },
      "outputs": [
        {
          "output_type": "stream",
          "name": "stdout",
          "text": [
            "Drive already mounted at /content/drive; to attempt to forcibly remount, call drive.mount(\"/content/drive\", force_remount=True).\n"
          ]
        }
      ],
      "source": [
        "import numpy as np\n",
        "import pandas as pd\n",
        "from google.colab import drive\n",
        "drive.mount('/content/drive')"
      ]
    },
    {
      "cell_type": "code",
      "source": [
        "early_df = pd.read_csv(\"/content/drive/My Drive/Colab Notebooks/21_features_may_25_df.csv\")\n",
        "middle_df = pd.read_csv(\"/content/drive/My Drive/Colab Notebooks/22_23_features_may_25_df.csv\")\n",
        "late_df = pd.read_csv(\"/content/drive/My Drive/Colab Notebooks/24_250508_features_may_25_df.csv\")"
      ],
      "metadata": {
        "id": "53U4hUp8cX6y"
      },
      "execution_count": 3,
      "outputs": []
    },
    {
      "cell_type": "code",
      "source": [
        "print(early_df)"
      ],
      "metadata": {
        "colab": {
          "base_uri": "https://localhost:8080/"
        },
        "id": "p8u4ntDA-6Jg",
        "outputId": "10d7d52c-7d04-4c95-cd1d-c14ec11fc466"
      },
      "execution_count": 4,
      "outputs": [
        {
          "output_type": "stream",
          "name": "stdout",
          "text": [
            "          Close        High         Low        Open       Volume       pos  \\\n",
            "0    126.239700  130.336805  123.654619  130.249014  143301900.0  0.984030   \n",
            "1    127.800476  128.512603  125.283680  125.732417   97664900.0  0.953821   \n",
            "2    123.498535  127.839523  123.283924  124.591100  155088000.0  0.896802   \n",
            "3    127.712692  128.405305  124.727659  125.215410  109578200.0  0.830714   \n",
            "4    128.815018  129.380811  127.039597  129.185698  105158200.0  0.891560   \n",
            "..          ...         ...         ...         ...          ...       ...   \n",
            "246  173.021561  173.581032  172.030235  172.599516   68356600.0  0.886298   \n",
            "247  176.996719  177.085052  173.796984  173.816603   74919600.0  0.760210   \n",
            "248  175.975922  177.978222  175.229975  176.829850   79144300.0  0.973698   \n",
            "249  176.064270  177.291164  174.847185  176.015191   62348900.0  0.859437   \n",
            "250  174.906036  177.232238  174.798069  176.152565   59773000.0  0.924086   \n",
            "\n",
            "         neut       neg  sentiment_score  rolling_sentiment  ...  \\\n",
            "0    0.001089  0.014881         0.969149                NaN  ...   \n",
            "1    0.045860  0.000318         0.953503                NaN  ...   \n",
            "2    0.025534  0.077664         0.819138           0.913930  ...   \n",
            "3    0.095507  0.073780         0.756934           0.843192  ...   \n",
            "4    0.047626  0.060814         0.830746           0.802273  ...   \n",
            "..        ...       ...              ...                ...  ...   \n",
            "246  0.062731  0.050971         0.835327           0.776269  ...   \n",
            "247  0.100155  0.139635         0.620575           0.764330  ...   \n",
            "248  0.000697  0.025605         0.948093           0.801332  ...   \n",
            "249  0.089643  0.050920         0.808517           0.792395  ...   \n",
            "250  0.007960  0.067954         0.856133           0.870914  ...   \n",
            "\n",
            "     sentiment_lag_2  price_lag_2  sentiment_lag_3  price_lag_3  \\\n",
            "0                NaN          NaN              NaN          NaN   \n",
            "1                NaN          NaN              NaN          NaN   \n",
            "2           0.969149   126.239700              NaN          NaN   \n",
            "3           0.953503   127.800476         0.969149   126.239700   \n",
            "4           0.819138   123.498535         0.953503   127.800476   \n",
            "..               ...          ...              ...          ...   \n",
            "246         0.656392   169.792419         0.792849   166.612289   \n",
            "247         0.837088   172.393402         0.656392   169.792419   \n",
            "248         0.835327   173.021561         0.837088   172.393402   \n",
            "249         0.620575   176.996719         0.835327   173.021561   \n",
            "250         0.948093   175.975922         0.620575   176.996719   \n",
            "\n",
            "     sentiment_lag_4  price_lag_4  sentiment_lag_5  price_lag_5  \\\n",
            "0                NaN          NaN              NaN          NaN   \n",
            "1                NaN          NaN              NaN          NaN   \n",
            "2                NaN          NaN              NaN          NaN   \n",
            "3                NaN          NaN              NaN          NaN   \n",
            "4           0.969149   126.239700              NaN          NaN   \n",
            "..               ...          ...              ...          ...   \n",
            "246         0.778116   167.976562         0.910177   169.075897   \n",
            "247         0.792849   166.612289         0.778116   167.976562   \n",
            "248         0.656392   169.792419         0.792849   166.612289   \n",
            "249         0.837088   172.393402         0.656392   169.792419   \n",
            "250         0.835327   173.021561         0.837088   172.393402   \n",
            "\n",
            "     next_day_return  price_direction  \n",
            "0           0.012364                1  \n",
            "1          -0.033661                0  \n",
            "2           0.034123                1  \n",
            "3           0.008631                1  \n",
            "4          -0.023249                0  \n",
            "..               ...              ...  \n",
            "246         0.022975                1  \n",
            "247        -0.005767                0  \n",
            "248         0.000502                1  \n",
            "249        -0.006578                0  \n",
            "250              NaN                0  \n",
            "\n",
            "[251 rows x 29 columns]\n"
          ]
        }
      ]
    },
    {
      "cell_type": "markdown",
      "source": [],
      "metadata": {
        "id": "cgIH95s7V1bi"
      }
    },
    {
      "cell_type": "code",
      "source": [
        "#currently, we only use \"Close\" price so we drop all the other price columns\n",
        "early_df= early_df.drop(['High', 'Low', 'Open', 'Volume'], axis=1)\n",
        "middle_df = middle_df.drop(['High', 'Low', 'Open'], axis=1)\n",
        "late_df = late_df.drop(['date', 'High', 'Low', 'Open', 'Volume'], axis=1)"
      ],
      "metadata": {
        "id": "kea5IorlRsqz"
      },
      "execution_count": 5,
      "outputs": []
    },
    {
      "cell_type": "markdown",
      "source": [],
      "metadata": {
        "id": "tRVgEKmP7Gge"
      }
    },
    {
      "cell_type": "code",
      "source": [
        "#pick and choose columns we want to use as features\n",
        "col_name=['Close', 'pos', 'neut', 'neg', 'sentiment_score','rolling_sentiment',\n",
        "       'sentiment_volatility', 'price_change', 'volatility', 'momentum', 'rsi',\n",
        "       'macd', 'ema', 'sentiment_lag_1', 'price_lag_1', 'sentiment_lag_2',\n",
        "       'price_lag_2', 'sentiment_lag_3', 'price_lag_3', 'sentiment_lag_4',\n",
        "       'price_lag_4', 'sentiment_lag_5', 'price_lag_5', 'next_day_return',\n",
        "       'price_direction']\n",
        "middle_df=middle_df[col_name]"
      ],
      "metadata": {
        "id": "lN4MO4uLHr_X"
      },
      "execution_count": 9,
      "outputs": []
    },
    {
      "cell_type": "code",
      "source": [
        "combo_df = pd.concat([early_df, middle_df], ignore_index=True)"
      ],
      "metadata": {
        "id": "JyYVqk4mu_qo"
      },
      "execution_count": 12,
      "outputs": []
    },
    {
      "cell_type": "code",
      "source": [
        "meta_df= pd.concat([combo_df, late_df], ignore_index=True)"
      ],
      "metadata": {
        "id": "-BqkB7neTRpK"
      },
      "execution_count": 13,
      "outputs": []
    },
    {
      "cell_type": "code",
      "source": [
        "meta_df['next_close'] = meta_df['Close'].shift(-1)"
      ],
      "metadata": {
        "id": "rVeDUE8NPX20"
      },
      "execution_count": 14,
      "outputs": []
    },
    {
      "cell_type": "code",
      "source": [],
      "metadata": {
        "id": "tdWuSDv_cxko"
      },
      "execution_count": null,
      "outputs": []
    },
    {
      "cell_type": "code",
      "source": [],
      "metadata": {
        "id": "FepTdYMVd29u"
      },
      "execution_count": null,
      "outputs": []
    },
    {
      "cell_type": "code",
      "source": [
        "print(meta_df)"
      ],
      "metadata": {
        "id": "FR5-CGcndbx4",
        "colab": {
          "base_uri": "https://localhost:8080/"
        },
        "outputId": "04d3eb54-7bdd-42d4-84a0-654bde059cc5"
      },
      "execution_count": 15,
      "outputs": [
        {
          "output_type": "stream",
          "name": "stdout",
          "text": [
            "           Close       pos      neut       neg  sentiment_score  \\\n",
            "0     126.239700  0.984030  0.001089  0.014881         0.969149   \n",
            "1     127.800476  0.953821  0.045860  0.000318         0.953503   \n",
            "2     123.498535  0.896802  0.025534  0.077664         0.819138   \n",
            "3     127.712692  0.830714  0.095507  0.073780         0.756934   \n",
            "4     128.815018  0.891560  0.047626  0.060814         0.830746   \n",
            "...          ...       ...       ...       ...              ...   \n",
            "1086  198.629532  0.834041  0.098161  0.067798         0.766243   \n",
            "1087  198.250015  0.760118  0.162626  0.077255         0.682863   \n",
            "1088  195.992981  0.760805  0.100788  0.138407         0.622398   \n",
            "1089  197.231369  0.887714  0.041816  0.070470         0.817244   \n",
            "1090  198.270004  0.897556  0.094154  0.008290         0.889266   \n",
            "\n",
            "      rolling_sentiment  sentiment_volatility  price_change  volatility  \\\n",
            "0                   NaN                   NaN           NaN         NaN   \n",
            "1                   NaN                   NaN      0.012364         NaN   \n",
            "2              0.913930              0.082464     -0.033661         NaN   \n",
            "3              0.843192              0.100468      0.034123         NaN   \n",
            "4              0.802273              0.039691      0.008631    2.068029   \n",
            "...                 ...                   ...           ...         ...   \n",
            "1086           0.699673              0.087941     -0.031458    6.086044   \n",
            "1087           0.683029              0.083131     -0.001911    7.105778   \n",
            "1088           0.690502              0.072226     -0.011385    6.940778   \n",
            "1089           0.707502              0.099732      0.006319    3.529961   \n",
            "1090           0.776303              0.138064      0.005266    1.074919   \n",
            "\n",
            "       momentum  ...  price_lag_2  sentiment_lag_3  price_lag_3  \\\n",
            "0           NaN  ...          NaN              NaN          NaN   \n",
            "1           NaN  ...          NaN              NaN          NaN   \n",
            "2           NaN  ...   126.239700              NaN          NaN   \n",
            "3           NaN  ...   127.800476         0.969149   126.239700   \n",
            "4           NaN  ...   123.498535         0.953503   127.800476   \n",
            "...         ...  ...          ...              ...          ...   \n",
            "1086 -11.235260  ...   213.040634         0.821827   212.221710   \n",
            "1087 -12.683380  ...   205.081070         0.732795   213.040634   \n",
            "1088 -16.228729  ...   198.629532         0.599981   205.081070   \n",
            "1089 -15.809265  ...   198.250015         0.766243   198.629532   \n",
            "1090  -6.811066  ...   195.992981         0.682863   198.250015   \n",
            "\n",
            "      sentiment_lag_4  price_lag_4  sentiment_lag_5  price_lag_5  \\\n",
            "0                 NaN          NaN              NaN          NaN   \n",
            "1                 NaN          NaN              NaN          NaN   \n",
            "2                 NaN          NaN              NaN          NaN   \n",
            "3                 NaN          NaN              NaN          NaN   \n",
            "4            0.969149   126.239700              NaN          NaN   \n",
            "...               ...          ...              ...          ...   \n",
            "1086         0.695005   210.933395         0.758550   209.864792   \n",
            "1087         0.821827   212.221710         0.695005   210.933395   \n",
            "1088         0.732795   213.040634         0.821827   212.221710   \n",
            "1089         0.599981   205.081070         0.732795   213.040634   \n",
            "1090         0.766243   198.629532         0.599981   205.081070   \n",
            "\n",
            "      next_day_return  price_direction  next_close  \n",
            "0            0.012364                1  127.800476  \n",
            "1           -0.033661                0  123.498535  \n",
            "2            0.034123                1  127.712692  \n",
            "3            0.008631                1  128.815018  \n",
            "4           -0.023249                0  125.820206  \n",
            "...               ...              ...         ...  \n",
            "1086        -0.001911                0  198.250015  \n",
            "1087        -0.011385                0  195.992981  \n",
            "1088         0.006319                1  197.231369  \n",
            "1089         0.005266                1  198.270004  \n",
            "1090              NaN                0         NaN  \n",
            "\n",
            "[1091 rows x 26 columns]\n"
          ]
        }
      ]
    },
    {
      "cell_type": "code",
      "source": [
        "meta_df.to_csv(\"/content/drive/My Drive/Colab Notebooks/21_250509_features_df.csv\", index=False)"
      ],
      "metadata": {
        "id": "mhwCPCJrfRVP"
      },
      "execution_count": 17,
      "outputs": []
    }
  ]
}
