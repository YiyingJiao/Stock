{
 "cells": [
  {
   "cell_type": "code",
   "execution_count": null,
   "metadata": {},
   "outputs": [],
   "source": [
    "#Author: Yiying Jiao\n",
    "#Step 4 Note: adjusted prices from yahoo finance are dynamically updated\n",
    "#step 4 needs to be rerun from time to time"
   ]
  },
  {
   "cell_type": "code",
   "execution_count": 1,
   "metadata": {},
   "outputs": [],
   "source": [
    "import os\n",
    "import pandas as pd\n",
    "import numpy as np"
   ]
  },
  {
   "cell_type": "code",
   "execution_count": 2,
   "metadata": {},
   "outputs": [],
   "source": [
    "#if special case: given that our new data is probably just a short period of time,\n",
    "#it is not ideal or possible for some metrics like macd to capture trends,\n",
    "#we add it to the whole year of 2025 and analyze all the dates together\n",
    "#meta_df=pd.concat([prev_df,curr_df])\n",
    "#early_df = pd.read_csv(\"24_20250304_probs_df.csv\")\n",
    "#early_df = early_df.drop(['sentimen_probs'], axis=1)\n",
    "#early_df['sentiment_score']=early_df['pos']-early_df['neg']\n",
    "#late_df = pd.read_csv(\"part2_probs_df.csv\")\n",
    "#combo_df = pd.concat([early_df, late_df], ignore_index=True)\n",
    "\n",
    "#last_df = pd.read_csv(\"20250405-20250512_probs_df.csv\")\n",
    "#meta_df = pd.concat([combo_df, last_df], ignore_index=True)\n",
    "#meta_df.to_csv(\"/Users/jiao/projects/24_250509_may_25_df.csv\", index=False)"
   ]
  },
  {
   "cell_type": "code",
   "execution_count": 3,
   "metadata": {},
   "outputs": [
    {
     "name": "stdout",
     "output_type": "stream",
     "text": [
      "           date       Close        High         Low        Open      Volume  \\\n",
      "0    2024-01-02  184.532074  187.315366  182.792518  186.033057  82488700.0   \n",
      "1    2024-01-03  183.150391  184.770668  182.335277  183.120571  58414500.0   \n",
      "2    2024-01-04  180.824356  181.997307  179.800504  181.062914  71983600.0   \n",
      "3    2024-01-05  180.098709  181.669281  179.094742  180.903888  62303300.0   \n",
      "4    2024-01-08  184.452560  184.492330  180.416793  181.003268  59144500.0   \n",
      "..          ...         ...         ...         ...         ...         ...   \n",
      "334  2025-05-05  198.889999  204.100006  198.210007  203.100006  69018500.0   \n",
      "335  2025-05-06  198.509995  200.649994  197.020004  198.210007  51216500.0   \n",
      "336  2025-05-07  196.250000  199.440002  193.250000  199.169998  68536700.0   \n",
      "337  2025-05-08  197.490005  200.050003  194.679993  197.720001  50478900.0   \n",
      "338  2025-05-09  198.529999  200.539993  197.539993  199.000000  36415700.0   \n",
      "\n",
      "          pos      neut       neg  sentiment_score  \n",
      "0    0.714635  0.052634  0.232731         0.481904  \n",
      "1    0.778517  0.057405  0.164078         0.614440  \n",
      "2    0.848109  0.103794  0.048097         0.800012  \n",
      "3    0.841648  0.080877  0.077475         0.764172  \n",
      "4    0.817603  0.083643  0.098754         0.718849  \n",
      "..        ...       ...       ...              ...  \n",
      "334  0.834041  0.098161  0.067798         0.766243  \n",
      "335  0.760118  0.162626  0.077255         0.682863  \n",
      "336  0.760805  0.100788  0.138407         0.622398  \n",
      "337  0.887714  0.041816  0.070470         0.817244  \n",
      "338  0.897556  0.094154  0.008290         0.889266  \n",
      "\n",
      "[339 rows x 10 columns]\n"
     ]
    }
   ],
   "source": [
    "#now we get an avg sentiment score for each date\n",
    "senti_df = pd.read_csv(\"24_250509_may_25_df.csv\")\n",
    "senti_df=senti_df.groupby('date').mean()\n",
    "senti_df = senti_df.reset_index()\n",
    "print(senti_df)"
   ]
  },
  {
   "cell_type": "code",
   "execution_count": 4,
   "metadata": {},
   "outputs": [
    {
     "name": "stdout",
     "output_type": "stream",
     "text": [
      "YF.download() has changed argument auto_adjust default to True\n"
     ]
    },
    {
     "name": "stderr",
     "output_type": "stream",
     "text": [
      "[*********************100%***********************]  1 of 1 completed\n"
     ]
    }
   ],
   "source": [
    "#get the most updated adjusted close price from yahoo finance\n",
    "#note: adjusted close price is dyamically updated, \n",
    "import yfinance as yf\n",
    "\n",
    "# Define the ticker and date range\n",
    "ticker = \"AAPL\"\n",
    "start_date = \"2024-01-01\"\n",
    "end_date = \"2025-05-10\"\n",
    "\n",
    "# Download the data\n",
    "prices_df = yf.download(ticker, start=start_date, end=end_date)\n",
    "\n",
    "# Get rid of all the indices, set the top level index as column names\n",
    "prices_df.columns = prices_df.columns.get_level_values(0)\n",
    "prices_df = prices_df.reset_index()\n",
    "prices_df = prices_df.rename(columns={'Date': 'date'})"
   ]
  },
  {
   "cell_type": "code",
   "execution_count": 5,
   "metadata": {},
   "outputs": [],
   "source": [
    "#set up the format of the date column of price dataset and sentiment dataframes\n",
    "#prepare to merge two dataframes\n",
    "prices_df['date'] = pd.to_datetime(prices_df['date'], unit='ns')\n",
    "senti_df['date'] = pd.to_datetime(senti_df['date'], unit='ns')\n",
    "senti_df = senti_df.drop(columns=['Close','High', 'Low', 'Open','Volume'], axis=1)\n"
   ]
  },
  {
   "cell_type": "code",
   "execution_count": 6,
   "metadata": {},
   "outputs": [],
   "source": [
    "meta_df = pd.merge(prices_df, senti_df, on='date')"
   ]
  },

  {
   "cell_type": "code",
   "execution_count": 7,
   "metadata": {},
   "outputs": [],
   "source": [
    "#Feature Engineering\n",
    "\n",
    "#sentiment features\n",
    "meta_df[\"rolling_sentiment\"] = meta_df[\"sentiment_score\"].rolling(window=3).mean()\n",
    "meta_df[\"sentiment_volatility\"] = meta_df[\"sentiment_score\"].rolling(window=3).std()\n"
   ]
  },
  {
   "cell_type": "code",
   "execution_count": 8,
   "metadata": {},
   "outputs": [],
   "source": [
    "#stock indicator features\n",
    "meta_df[\"price_change\"] = meta_df[\"Close\"].pct_change()  \n",
    "meta_df[\"volatility\"] = meta_df[\"Close\"].rolling(5).std()\n",
    "meta_df[\"momentum\"] = meta_df[\"Close\"] - meta_df[\"Close\"].shift(5)  # 5-day momentum\n"
   ]
  },
  {
   "cell_type": "code",
   "execution_count": 9,
   "metadata": {},
   "outputs": [
    {
     "name": "stdout",
     "output_type": "stream",
     "text": [
      "        date       Close        High         Low        Open    Volume  \\\n",
      "0 2024-01-02  184.290421  187.070068  182.553143  185.789438  82488700   \n",
      "1 2024-01-03  182.910538  184.528693  182.096492  182.880757  58414500   \n",
      "2 2024-01-04  180.587524  181.758939  179.565014  180.825770  71983600   \n",
      "3 2024-01-05  179.862839  181.431354  178.860187  180.666963  62303300   \n",
      "4 2024-01-08  184.210999  184.250716  180.180517  180.766224  59144500   \n",
      "\n",
      "        pos      neut       neg  sentiment_score  rolling_sentiment  \\\n",
      "0  0.714635  0.052634  0.232731         0.481904                NaN   \n",
      "1  0.778517  0.057405  0.164078         0.614440                NaN   \n",
      "2  0.848109  0.103794  0.048097         0.800012           0.632119   \n",
      "3  0.841648  0.080877  0.077475         0.764172           0.726208   \n",
      "4  0.817603  0.083643  0.098754         0.718849           0.761011   \n",
      "\n",
      "   sentiment_volatility  price_change  volatility  momentum  \n",
      "0                   NaN           NaN         NaN       NaN  \n",
      "1                   NaN     -0.007488         NaN       NaN  \n",
      "2              0.159789     -0.012700         NaN       NaN  \n",
      "3              0.098439     -0.004013         NaN       NaN  \n",
      "4              0.040674      0.024175    2.051373       NaN  \n"
     ]
    }
   ],
   "source": [
    "#RSI detects overbought/oversold conditions.\n",
    "#MACD helps track trend strength.\n",
    "#EMA smooths price trends.\n",
    "\n",
    "import pandas_ta as ta\n",
    "\n",
    "meta_df[\"rsi\"] = ta.rsi(meta_df[\"Close\"], length=14)  # Relative Strength Index\n",
    "\n",
    "meta_df[\"macd\"] = ta.macd(meta_df[\"Close\"])[\"MACD_12_26_9\"]  # MACD indicator\n",
    "meta_df[\"ema\"] = ta.ema(meta_df[\"Close\"], length=10)  # Exponential Moving Average\n",
    "\n"
   ]
  },
  {
   "cell_type": "code",
   "execution_count": 10,
   "metadata": {},
   "outputs": [],
   "source": [
    "for lag in range(1, 6):  # sentiment score and price from the past 5 days\n",
    "    meta_df[f\"sentiment_lag_{lag}\"] = meta_df[\"sentiment_score\"].shift(lag)\n",
    "    meta_df[f\"price_lag_{lag}\"] = meta_df[\"Close\"].shift(lag)\n"
   ]
  },
  {
   "cell_type": "code",
   "execution_count": 11,
   "metadata": {},
   "outputs": [],
   "source": [
    "meta_df[\"next_day_return\"] = meta_df[\"Close\"].pct_change().shift(-1)\n",
    "#create a binary label, up or down\n",
    "#1 → Stock goes up tomorrow\n",
    "#0 → Stock goes down tomorrow\n",
    "meta_df[\"price_direction\"] = (meta_df[\"next_day_return\"] > 0).astype(int)\n"
   ]
  },
  {
   "cell_type": "code",
   "execution_count": 12,
   "metadata": {},
   "outputs": [],
   "source": [
    "meta_df.to_csv(\"/Users/jiao/projects/24_250508_may_25_featuresdf.csv\", index=False)"
   ]
  }
 ],
 "metadata": {
  "kernelspec": {
   "display_name": "Python 3",
   "language": "python",
   "name": "python3"
  },
  "language_info": {
   "codemirror_mode": {
    "name": "ipython",
    "version": 3
   },
   "file_extension": ".py",
   "mimetype": "text/x-python",
   "name": "python",
   "nbconvert_exporter": "python",
   "pygments_lexer": "ipython3",
   "version": "3.8.3"
  }
 },
 "nbformat": 4,
 "nbformat_minor": 4
}
