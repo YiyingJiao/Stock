{
 "cells": [
  {
   "cell_type": "code",
   "execution_count": 1,
   "metadata": {
    "id": "r-wnZuMqKUXn"
   },
   "outputs": [],
   "source": [
    "#Author: Yiying Jiao\n"
   ]
  },
  {
   "cell_type": "code",
   "execution_count": null,
   "metadata": {
    "id": "RGhuwGojCcpL"
   },
   "outputs": [],
   "source": [
    "\n",
    "import numpy as np\n",
    "import pandas as pd\n",
    "from sklearn.preprocessing import MinMaxScaler\n",
    "from sklearn.model_selection import train_test_split\n",
    "import tensorflow as tf\n",
    "from tensorflow.keras.models import Sequential\n",
    "from tensorflow.keras.layers import LSTM, Dense, Dropout\n",
    "from google.colab import drive\n",
    "drive.mount('/content/drive')"
   ]
  },
  {
   "cell_type": "code",
   "execution_count": 3,
   "metadata": {
    "id": "CrDXlke4KfYD"
   },
   "outputs": [],
   "source": [
    "from sklearn.preprocessing import StandardScaler, MinMaxScaler\n",
    "# Load prepared dataset\n",
    "df = pd.read_csv(\"/content/drive/My Drive/Colab Notebooks/21_250509_features_df.csv\")"
   ]
  },
  {
   "cell_type": "code",
   "execution_count": 4,
   "metadata": {
    "colab": {
     "base_uri": "https://localhost:8080/"
    },
    "id": "vM2g4leDLH2x",
    "outputId": "9198305b-e5ca-4e3f-a676-b58b7c565916"
   },
   "outputs": [
    {
     "name": "stdout",
     "output_type": "stream",
     "text": [
      "           Close       pos      neut       neg  sentiment_score  \\\n",
      "0     126.239700  0.984030  0.001089  0.014881         0.969149   \n",
      "1     127.800476  0.953821  0.045860  0.000318         0.953503   \n",
      "2     123.498535  0.896802  0.025534  0.077664         0.819138   \n",
      "3     127.712692  0.830714  0.095507  0.073780         0.756934   \n",
      "4     128.815018  0.891560  0.047626  0.060814         0.830746   \n",
      "...          ...       ...       ...       ...              ...   \n",
      "1086  198.629532  0.834041  0.098161  0.067798         0.766243   \n",
      "1087  198.250015  0.760118  0.162626  0.077255         0.682863   \n",
      "1088  195.992981  0.760805  0.100788  0.138407         0.622398   \n",
      "1089  197.231369  0.887714  0.041816  0.070470         0.817244   \n",
      "1090  198.270004  0.897556  0.094154  0.008290         0.889266   \n",
      "\n",
      "      rolling_sentiment  sentiment_volatility  price_change  volatility  \\\n",
      "0                   NaN                   NaN           NaN         NaN   \n",
      "1                   NaN                   NaN      0.012364         NaN   \n",
      "2              0.913930              0.082464     -0.033661         NaN   \n",
      "3              0.843192              0.100468      0.034123         NaN   \n",
      "4              0.802273              0.039691      0.008631    2.068029   \n",
      "...                 ...                   ...           ...         ...   \n",
      "1086           0.699673              0.087941     -0.031458    6.086044   \n",
      "1087           0.683029              0.083131     -0.001911    7.105778   \n",
      "1088           0.690502              0.072226     -0.011385    6.940778   \n",
      "1089           0.707502              0.099732      0.006319    3.529961   \n",
      "1090           0.776303              0.138064      0.005266    1.074919   \n",
      "\n",
      "       momentum  ...  price_lag_2  sentiment_lag_3  price_lag_3  \\\n",
      "0           NaN  ...          NaN              NaN          NaN   \n",
      "1           NaN  ...          NaN              NaN          NaN   \n",
      "2           NaN  ...   126.239700              NaN          NaN   \n",
      "3           NaN  ...   127.800476         0.969149   126.239700   \n",
      "4           NaN  ...   123.498535         0.953503   127.800476   \n",
      "...         ...  ...          ...              ...          ...   \n",
      "1086 -11.235260  ...   213.040634         0.821827   212.221710   \n",
      "1087 -12.683380  ...   205.081070         0.732795   213.040634   \n",
      "1088 -16.228729  ...   198.629532         0.599981   205.081070   \n",
      "1089 -15.809265  ...   198.250015         0.766243   198.629532   \n",
      "1090  -6.811066  ...   195.992981         0.682863   198.250015   \n",
      "\n",
      "      sentiment_lag_4  price_lag_4  sentiment_lag_5  price_lag_5  \\\n",
      "0                 NaN          NaN              NaN          NaN   \n",
      "1                 NaN          NaN              NaN          NaN   \n",
      "2                 NaN          NaN              NaN          NaN   \n",
      "3                 NaN          NaN              NaN          NaN   \n",
      "4            0.969149   126.239700              NaN          NaN   \n",
      "...               ...          ...              ...          ...   \n",
      "1086         0.695005   210.933395         0.758550   209.864792   \n",
      "1087         0.821827   212.221710         0.695005   210.933395   \n",
      "1088         0.732795   213.040634         0.821827   212.221710   \n",
      "1089         0.599981   205.081070         0.732795   213.040634   \n",
      "1090         0.766243   198.629532         0.599981   205.081070   \n",
      "\n",
      "      next_day_return  price_direction  next_close  \n",
      "0            0.012364                1  127.800476  \n",
      "1           -0.033661                0  123.498535  \n",
      "2            0.034123                1  127.712692  \n",
      "3            0.008631                1  128.815018  \n",
      "4           -0.023249                0  125.820206  \n",
      "...               ...              ...         ...  \n",
      "1086        -0.001911                0  198.250015  \n",
      "1087        -0.011385                0  195.992981  \n",
      "1088         0.006319                1  197.231369  \n",
      "1089         0.005266                1  198.270004  \n",
      "1090              NaN                0         NaN  \n",
      "\n",
      "[1091 rows x 26 columns]\n"
     ]
    }
   ],
   "source": [
    "print(df)"
   ]
  },
  {
   "cell_type": "code",
   "execution_count": 6,
   "metadata": {
    "id": "08SefPnOKazz"
   },
   "outputs": [],
   "source": [
    "\n",
    "# Drop NaNs (from rolling/lag features)\n",
    "df.dropna(inplace=True)\n",
    "\n",
    "\n",
    "# Select features & target\n",
    "features = ['Close','pos', 'neut', 'neg', 'sentiment_score','rolling_sentiment',\n",
    "       'sentiment_volatility', 'price_change', 'volatility', 'momentum', 'rsi',\n",
    "       'macd', 'ema', 'sentiment_lag_1', 'price_lag_1', 'sentiment_lag_2',\n",
    "       'price_lag_2', 'sentiment_lag_3', 'price_lag_3', 'sentiment_lag_4',\n",
    "       'price_lag_4', 'sentiment_lag_5', 'price_lag_5']\n",
    "target = \"next_close\"  # we are predicting next day's price\n",
    "\n",
    "X = df[features].values\n",
    "y = df[target].values\n",
    "\n",
    "# Normalize features\n",
    "scaler_X = MinMaxScaler()\n",
    "X_scaled = scaler_X.fit_transform(X)\n",
    "scaler_y = StandardScaler()  # Use StandardScaler\n",
    "y_scaled = scaler_y.fit_transform(y.reshape(-1, 1))\n",
    "\n"
   ]
  },
  {
   "cell_type": "code",
   "execution_count": 7,
   "metadata": {
    "id": "OoorLL48AwR9"
   },
   "outputs": [],
   "source": [
    "\n",
    "timesteps = 1\n",
    "\n",
    "# Split manually ensuring the time sequence remains intact\n",
    "split_index = int(0.85 * len(df))  # 85% train, 15% test\n",
    "\n",
    "# X\n",
    "X_train_seq = X_scaled[:split_index]\n",
    "X_test_seq = X_scaled[split_index:]\n",
    "\n",
    "# y\n",
    "y_train_seq = y_scaled[:split_index]\n",
    "y_test_seq = y_scaled[split_index:]\n",
    "\n",
    "# Reshape X for LSTM (samples, timesteps, features)\n",
    "num_samples_test = X_test_seq.shape[0] // timesteps * timesteps\n",
    "num_samples_train = X_train_seq.shape[0] // timesteps * timesteps\n",
    "X_test_seq = X_test_seq[:num_samples_test]\n",
    "X_test_seq = X_test_seq.reshape((num_samples_test // timesteps, timesteps, X_test_seq.shape[1]))\n",
    "X_train_seq = X_train_seq[:num_samples_train]\n",
    "X_train_seq = X_train_seq.reshape((num_samples_train // timesteps, timesteps, X_train_seq.shape[1]))\n",
    "\n",
    "\n",
    "y_train_seq = y_train_seq[:num_samples_train]  # Trim y to match X\n",
    "y_train_seq = y_train_seq.reshape(-1, timesteps)[:, -1]  # Keep only last value\n",
    "y_train_seq = y_train_seq.reshape(-1, 1)  # Ensure correct shape\n",
    "\n",
    "y_test_seq = y_test_seq[:num_samples_test]  # Trim y to match X\n",
    "y_test_seq = y_test_seq.reshape(-1, timesteps)[:, -1]  # Keep only last value\n",
    "y_test_seq = y_test_seq.reshape(-1, 1)  # Ensure correct shape"
   ]
  },
  {
   "cell_type": "code",
   "execution_count": 8,
   "metadata": {
    "colab": {
     "base_uri": "https://localhost:8080/"
    },
    "id": "DSXrVr0WsK4c",
    "outputId": "f23072cf-527c-40e4-d56d-68b3e25c7487"
   },
   "outputs": [
    {
     "name": "stdout",
     "output_type": "stream",
     "text": [
      "X_train_seq shape: (861, 1, 23)\n",
      "y_train_seq shape: (861, 1)\n",
      "X_scaled shape: (1013, 23)\n"
     ]
    }
   ],
   "source": [
    "print(\"X_train_seq shape:\", X_train_seq.shape)  # Should be (samples, timesteps, features)\n",
    "print(\"y_train_seq shape:\", y_train_seq.shape)  # Should be (samples, 1)\n",
    "print(\"X_scaled shape:\", X_scaled.shape)"
   ]
  },
  {
   "cell_type": "code",
   "execution_count": 9,
   "metadata": {
    "colab": {
     "base_uri": "https://localhost:8080/",
     "height": 386
    },
    "id": "m_HVYuPuLJUZ",
    "outputId": "da26acd6-e31e-4f83-a4fa-985f1c3389ec"
   },
   "outputs": [
    {
     "name": "stderr",
     "output_type": "stream",
     "text": [
      "/usr/local/lib/python3.11/dist-packages/keras/src/layers/rnn/rnn.py:200: UserWarning: Do not pass an `input_shape`/`input_dim` argument to a layer. When using Sequential models, prefer using an `Input(shape)` object as the first layer in the model instead.\n",
      "  super().__init__(**kwargs)\n"
     ]
    },
    {
     "data": {
      "text/html": [
       "<pre style=\"white-space:pre;overflow-x:auto;line-height:normal;font-family:Menlo,'DejaVu Sans Mono',consolas,'Courier New',monospace\"><span style=\"font-weight: bold\">Model: \"sequential\"</span>\n",
       "</pre>\n"
      ],
      "text/plain": [
       "\u001b[1mModel: \"sequential\"\u001b[0m\n"
      ]
     },
     "metadata": {},
     "output_type": "display_data"
    },
    {
     "data": {
      "text/html": [
       "<pre style=\"white-space:pre;overflow-x:auto;line-height:normal;font-family:Menlo,'DejaVu Sans Mono',consolas,'Courier New',monospace\">┏━━━━━━━━━━━━━━━━━━━━━━━━━━━━━━━━━┳━━━━━━━━━━━━━━━━━━━━━━━━┳━━━━━━━━━━━━━━━┓\n",
       "┃<span style=\"font-weight: bold\"> Layer (type)                    </span>┃<span style=\"font-weight: bold\"> Output Shape           </span>┃<span style=\"font-weight: bold\">       Param # </span>┃\n",
       "┡━━━━━━━━━━━━━━━━━━━━━━━━━━━━━━━━━╇━━━━━━━━━━━━━━━━━━━━━━━━╇━━━━━━━━━━━━━━━┩\n",
       "│ lstm (<span style=\"color: #0087ff; text-decoration-color: #0087ff\">LSTM</span>)                     │ (<span style=\"color: #00d7ff; text-decoration-color: #00d7ff\">None</span>, <span style=\"color: #00af00; text-decoration-color: #00af00\">1</span>, <span style=\"color: #00af00; text-decoration-color: #00af00\">50</span>)          │        <span style=\"color: #00af00; text-decoration-color: #00af00\">14,800</span> │\n",
       "├─────────────────────────────────┼────────────────────────┼───────────────┤\n",
       "│ dropout (<span style=\"color: #0087ff; text-decoration-color: #0087ff\">Dropout</span>)               │ (<span style=\"color: #00d7ff; text-decoration-color: #00d7ff\">None</span>, <span style=\"color: #00af00; text-decoration-color: #00af00\">1</span>, <span style=\"color: #00af00; text-decoration-color: #00af00\">50</span>)          │             <span style=\"color: #00af00; text-decoration-color: #00af00\">0</span> │\n",
       "├─────────────────────────────────┼────────────────────────┼───────────────┤\n",
       "│ lstm_1 (<span style=\"color: #0087ff; text-decoration-color: #0087ff\">LSTM</span>)                   │ (<span style=\"color: #00d7ff; text-decoration-color: #00d7ff\">None</span>, <span style=\"color: #00af00; text-decoration-color: #00af00\">50</span>)             │        <span style=\"color: #00af00; text-decoration-color: #00af00\">20,200</span> │\n",
       "├─────────────────────────────────┼────────────────────────┼───────────────┤\n",
       "│ dropout_1 (<span style=\"color: #0087ff; text-decoration-color: #0087ff\">Dropout</span>)             │ (<span style=\"color: #00d7ff; text-decoration-color: #00d7ff\">None</span>, <span style=\"color: #00af00; text-decoration-color: #00af00\">50</span>)             │             <span style=\"color: #00af00; text-decoration-color: #00af00\">0</span> │\n",
       "├─────────────────────────────────┼────────────────────────┼───────────────┤\n",
       "│ dense (<span style=\"color: #0087ff; text-decoration-color: #0087ff\">Dense</span>)                   │ (<span style=\"color: #00d7ff; text-decoration-color: #00d7ff\">None</span>, <span style=\"color: #00af00; text-decoration-color: #00af00\">25</span>)             │         <span style=\"color: #00af00; text-decoration-color: #00af00\">1,275</span> │\n",
       "├─────────────────────────────────┼────────────────────────┼───────────────┤\n",
       "│ dense_1 (<span style=\"color: #0087ff; text-decoration-color: #0087ff\">Dense</span>)                 │ (<span style=\"color: #00d7ff; text-decoration-color: #00d7ff\">None</span>, <span style=\"color: #00af00; text-decoration-color: #00af00\">1</span>)              │            <span style=\"color: #00af00; text-decoration-color: #00af00\">26</span> │\n",
       "└─────────────────────────────────┴────────────────────────┴───────────────┘\n",
       "</pre>\n"
      ],
      "text/plain": [
       "┏━━━━━━━━━━━━━━━━━━━━━━━━━━━━━━━━━┳━━━━━━━━━━━━━━━━━━━━━━━━┳━━━━━━━━━━━━━━━┓\n",
       "┃\u001b[1m \u001b[0m\u001b[1mLayer (type)                   \u001b[0m\u001b[1m \u001b[0m┃\u001b[1m \u001b[0m\u001b[1mOutput Shape          \u001b[0m\u001b[1m \u001b[0m┃\u001b[1m \u001b[0m\u001b[1m      Param #\u001b[0m\u001b[1m \u001b[0m┃\n",
       "┡━━━━━━━━━━━━━━━━━━━━━━━━━━━━━━━━━╇━━━━━━━━━━━━━━━━━━━━━━━━╇━━━━━━━━━━━━━━━┩\n",
       "│ lstm (\u001b[38;5;33mLSTM\u001b[0m)                     │ (\u001b[38;5;45mNone\u001b[0m, \u001b[38;5;34m1\u001b[0m, \u001b[38;5;34m50\u001b[0m)          │        \u001b[38;5;34m14,800\u001b[0m │\n",
       "├─────────────────────────────────┼────────────────────────┼───────────────┤\n",
       "│ dropout (\u001b[38;5;33mDropout\u001b[0m)               │ (\u001b[38;5;45mNone\u001b[0m, \u001b[38;5;34m1\u001b[0m, \u001b[38;5;34m50\u001b[0m)          │             \u001b[38;5;34m0\u001b[0m │\n",
       "├─────────────────────────────────┼────────────────────────┼───────────────┤\n",
       "│ lstm_1 (\u001b[38;5;33mLSTM\u001b[0m)                   │ (\u001b[38;5;45mNone\u001b[0m, \u001b[38;5;34m50\u001b[0m)             │        \u001b[38;5;34m20,200\u001b[0m │\n",
       "├─────────────────────────────────┼────────────────────────┼───────────────┤\n",
       "│ dropout_1 (\u001b[38;5;33mDropout\u001b[0m)             │ (\u001b[38;5;45mNone\u001b[0m, \u001b[38;5;34m50\u001b[0m)             │             \u001b[38;5;34m0\u001b[0m │\n",
       "├─────────────────────────────────┼────────────────────────┼───────────────┤\n",
       "│ dense (\u001b[38;5;33mDense\u001b[0m)                   │ (\u001b[38;5;45mNone\u001b[0m, \u001b[38;5;34m25\u001b[0m)             │         \u001b[38;5;34m1,275\u001b[0m │\n",
       "├─────────────────────────────────┼────────────────────────┼───────────────┤\n",
       "│ dense_1 (\u001b[38;5;33mDense\u001b[0m)                 │ (\u001b[38;5;45mNone\u001b[0m, \u001b[38;5;34m1\u001b[0m)              │            \u001b[38;5;34m26\u001b[0m │\n",
       "└─────────────────────────────────┴────────────────────────┴───────────────┘\n"
      ]
     },
     "metadata": {},
     "output_type": "display_data"
    },
    {
     "data": {
      "text/html": [
       "<pre style=\"white-space:pre;overflow-x:auto;line-height:normal;font-family:Menlo,'DejaVu Sans Mono',consolas,'Courier New',monospace\"><span style=\"font-weight: bold\"> Total params: </span><span style=\"color: #00af00; text-decoration-color: #00af00\">36,301</span> (141.80 KB)\n",
       "</pre>\n"
      ],
      "text/plain": [
       "\u001b[1m Total params: \u001b[0m\u001b[38;5;34m36,301\u001b[0m (141.80 KB)\n"
      ]
     },
     "metadata": {},
     "output_type": "display_data"
    },
    {
     "data": {
      "text/html": [
       "<pre style=\"white-space:pre;overflow-x:auto;line-height:normal;font-family:Menlo,'DejaVu Sans Mono',consolas,'Courier New',monospace\"><span style=\"font-weight: bold\"> Trainable params: </span><span style=\"color: #00af00; text-decoration-color: #00af00\">36,301</span> (141.80 KB)\n",
       "</pre>\n"
      ],
      "text/plain": [
       "\u001b[1m Trainable params: \u001b[0m\u001b[38;5;34m36,301\u001b[0m (141.80 KB)\n"
      ]
     },
     "metadata": {},
     "output_type": "display_data"
    },
    {
     "data": {
      "text/html": [
       "<pre style=\"white-space:pre;overflow-x:auto;line-height:normal;font-family:Menlo,'DejaVu Sans Mono',consolas,'Courier New',monospace\"><span style=\"font-weight: bold\"> Non-trainable params: </span><span style=\"color: #00af00; text-decoration-color: #00af00\">0</span> (0.00 B)\n",
       "</pre>\n"
      ],
      "text/plain": [
       "\u001b[1m Non-trainable params: \u001b[0m\u001b[38;5;34m0\u001b[0m (0.00 B)\n"
      ]
     },
     "metadata": {},
     "output_type": "display_data"
    }
   ],
   "source": [
    "# Define LSTM Model\n",
    "\n",
    "model = Sequential([\n",
    "    LSTM(50, return_sequences=True, input_shape=(X_train_seq.shape[1], X_train_seq.shape[2])),\n",
    "    Dropout(0.2),\n",
    "    LSTM(50, return_sequences=False),  # Last LSTM layer without return sequences\n",
    "    Dropout(0.2),\n",
    "    Dense(25, activation=\"tanh\"), #switched from relu to tanh but not sure about which to use\n",
    "    Dense(1, activation=\"linear\")  # Output one value (next day return)\n",
    "])\n",
    "\n",
    "model.compile(optimizer='adam', loss='mse', metrics=['mae'])\n",
    "\n",
    "model.summary()"
   ]
  },
  {
   "cell_type": "code",
   "execution_count": 10,
   "metadata": {
    "colab": {
     "base_uri": "https://localhost:8080/"
    },
    "id": "vGiVYO7jLMuB",
    "outputId": "1bf2d864-fd2b-4884-a2cc-e5d997d663e8"
   },
   "outputs": [
    {
     "name": "stdout",
     "output_type": "stream",
     "text": [
      "Epoch 1/55\n",
      "\u001b[1m54/54\u001b[0m \u001b[32m━━━━━━━━━━━━━━━━━━━━\u001b[0m\u001b[37m\u001b[0m \u001b[1m3s\u001b[0m 11ms/step - loss: 0.5856 - mae: 0.6256 - val_loss: 1.8639 - val_mae: 1.3169\n",
      "Epoch 2/55\n",
      "\u001b[1m54/54\u001b[0m \u001b[32m━━━━━━━━━━━━━━━━━━━━\u001b[0m\u001b[37m\u001b[0m \u001b[1m0s\u001b[0m 4ms/step - loss: 0.1349 - mae: 0.2755 - val_loss: 0.0873 - val_mae: 0.2572\n",
      "Epoch 3/55\n",
      "\u001b[1m54/54\u001b[0m \u001b[32m━━━━━━━━━━━━━━━━━━━━\u001b[0m\u001b[37m\u001b[0m \u001b[1m0s\u001b[0m 4ms/step - loss: 0.0307 - mae: 0.1392 - val_loss: 0.0438 - val_mae: 0.1618\n",
      "Epoch 4/55\n",
      "\u001b[1m54/54\u001b[0m \u001b[32m━━━━━━━━━━━━━━━━━━━━\u001b[0m\u001b[37m\u001b[0m \u001b[1m0s\u001b[0m 3ms/step - loss: 0.0267 - mae: 0.1311 - val_loss: 0.0602 - val_mae: 0.2070\n",
      "Epoch 5/55\n",
      "\u001b[1m54/54\u001b[0m \u001b[32m━━━━━━━━━━━━━━━━━━━━\u001b[0m\u001b[37m\u001b[0m \u001b[1m0s\u001b[0m 4ms/step - loss: 0.0292 - mae: 0.1306 - val_loss: 0.0589 - val_mae: 0.2065\n",
      "Epoch 6/55\n",
      "\u001b[1m54/54\u001b[0m \u001b[32m━━━━━━━━━━━━━━━━━━━━\u001b[0m\u001b[37m\u001b[0m \u001b[1m0s\u001b[0m 4ms/step - loss: 0.0216 - mae: 0.1159 - val_loss: 0.0507 - val_mae: 0.1863\n",
      "Epoch 7/55\n",
      "\u001b[1m54/54\u001b[0m \u001b[32m━━━━━━━━━━━━━━━━━━━━\u001b[0m\u001b[37m\u001b[0m \u001b[1m0s\u001b[0m 4ms/step - loss: 0.0244 - mae: 0.1178 - val_loss: 0.0829 - val_mae: 0.2578\n",
      "Epoch 8/55\n",
      "\u001b[1m54/54\u001b[0m \u001b[32m━━━━━━━━━━━━━━━━━━━━\u001b[0m\u001b[37m\u001b[0m \u001b[1m0s\u001b[0m 4ms/step - loss: 0.0235 - mae: 0.1176 - val_loss: 0.0481 - val_mae: 0.1824\n",
      "Epoch 9/55\n",
      "\u001b[1m54/54\u001b[0m \u001b[32m━━━━━━━━━━━━━━━━━━━━\u001b[0m\u001b[37m\u001b[0m \u001b[1m0s\u001b[0m 3ms/step - loss: 0.0222 - mae: 0.1132 - val_loss: 0.0343 - val_mae: 0.1378\n",
      "Epoch 10/55\n",
      "\u001b[1m54/54\u001b[0m \u001b[32m━━━━━━━━━━━━━━━━━━━━\u001b[0m\u001b[37m\u001b[0m \u001b[1m0s\u001b[0m 4ms/step - loss: 0.0182 - mae: 0.1074 - val_loss: 0.0389 - val_mae: 0.1316\n",
      "Epoch 11/55\n",
      "\u001b[1m54/54\u001b[0m \u001b[32m━━━━━━━━━━━━━━━━━━━━\u001b[0m\u001b[37m\u001b[0m \u001b[1m0s\u001b[0m 3ms/step - loss: 0.0193 - mae: 0.1039 - val_loss: 0.0357 - val_mae: 0.1333\n",
      "Epoch 12/55\n",
      "\u001b[1m54/54\u001b[0m \u001b[32m━━━━━━━━━━━━━━━━━━━━\u001b[0m\u001b[37m\u001b[0m \u001b[1m0s\u001b[0m 4ms/step - loss: 0.0173 - mae: 0.1043 - val_loss: 0.0416 - val_mae: 0.1625\n",
      "Epoch 13/55\n",
      "\u001b[1m54/54\u001b[0m \u001b[32m━━━━━━━━━━━━━━━━━━━━\u001b[0m\u001b[37m\u001b[0m \u001b[1m0s\u001b[0m 4ms/step - loss: 0.0204 - mae: 0.1080 - val_loss: 0.0413 - val_mae: 0.1616\n",
      "Epoch 14/55\n",
      "\u001b[1m54/54\u001b[0m \u001b[32m━━━━━━━━━━━━━━━━━━━━\u001b[0m\u001b[37m\u001b[0m \u001b[1m0s\u001b[0m 4ms/step - loss: 0.0176 - mae: 0.1005 - val_loss: 0.0407 - val_mae: 0.1579\n",
      "Epoch 15/55\n",
      "\u001b[1m54/54\u001b[0m \u001b[32m━━━━━━━━━━━━━━━━━━━━\u001b[0m\u001b[37m\u001b[0m \u001b[1m0s\u001b[0m 4ms/step - loss: 0.0172 - mae: 0.1003 - val_loss: 0.0396 - val_mae: 0.1301\n",
      "Epoch 16/55\n",
      "\u001b[1m54/54\u001b[0m \u001b[32m━━━━━━━━━━━━━━━━━━━━\u001b[0m\u001b[37m\u001b[0m \u001b[1m0s\u001b[0m 4ms/step - loss: 0.0153 - mae: 0.0973 - val_loss: 0.0465 - val_mae: 0.1748\n",
      "Epoch 17/55\n",
      "\u001b[1m54/54\u001b[0m \u001b[32m━━━━━━━━━━━━━━━━━━━━\u001b[0m\u001b[37m\u001b[0m \u001b[1m0s\u001b[0m 7ms/step - loss: 0.0151 - mae: 0.0939 - val_loss: 0.0352 - val_mae: 0.1297\n",
      "Epoch 18/55\n",
      "\u001b[1m54/54\u001b[0m \u001b[32m━━━━━━━━━━━━━━━━━━━━\u001b[0m\u001b[37m\u001b[0m \u001b[1m0s\u001b[0m 6ms/step - loss: 0.0157 - mae: 0.0979 - val_loss: 0.0381 - val_mae: 0.1452\n",
      "Epoch 19/55\n",
      "\u001b[1m54/54\u001b[0m \u001b[32m━━━━━━━━━━━━━━━━━━━━\u001b[0m\u001b[37m\u001b[0m \u001b[1m0s\u001b[0m 6ms/step - loss: 0.0171 - mae: 0.1008 - val_loss: 0.0462 - val_mae: 0.1712\n",
      "Epoch 20/55\n",
      "\u001b[1m54/54\u001b[0m \u001b[32m━━━━━━━━━━━━━━━━━━━━\u001b[0m\u001b[37m\u001b[0m \u001b[1m0s\u001b[0m 7ms/step - loss: 0.0162 - mae: 0.0982 - val_loss: 0.0410 - val_mae: 0.1556\n",
      "Epoch 21/55\n",
      "\u001b[1m54/54\u001b[0m \u001b[32m━━━━━━━━━━━━━━━━━━━━\u001b[0m\u001b[37m\u001b[0m \u001b[1m0s\u001b[0m 4ms/step - loss: 0.0167 - mae: 0.0961 - val_loss: 0.0380 - val_mae: 0.1505\n",
      "Epoch 22/55\n",
      "\u001b[1m54/54\u001b[0m \u001b[32m━━━━━━━━━━━━━━━━━━━━\u001b[0m\u001b[37m\u001b[0m \u001b[1m0s\u001b[0m 5ms/step - loss: 0.0140 - mae: 0.0920 - val_loss: 0.0415 - val_mae: 0.1552\n",
      "Epoch 23/55\n",
      "\u001b[1m54/54\u001b[0m \u001b[32m━━━━━━━━━━━━━━━━━━━━\u001b[0m\u001b[37m\u001b[0m \u001b[1m0s\u001b[0m 9ms/step - loss: 0.0157 - mae: 0.0984 - val_loss: 0.0375 - val_mae: 0.1277\n",
      "Epoch 24/55\n",
      "\u001b[1m54/54\u001b[0m \u001b[32m━━━━━━━━━━━━━━━━━━━━\u001b[0m\u001b[37m\u001b[0m \u001b[1m1s\u001b[0m 12ms/step - loss: 0.0171 - mae: 0.1027 - val_loss: 0.0540 - val_mae: 0.1937\n",
      "Epoch 25/55\n",
      "\u001b[1m54/54\u001b[0m \u001b[32m━━━━━━━━━━━━━━━━━━━━\u001b[0m\u001b[37m\u001b[0m \u001b[1m1s\u001b[0m 12ms/step - loss: 0.0171 - mae: 0.0992 - val_loss: 0.0417 - val_mae: 0.1547\n",
      "Epoch 26/55\n",
      "\u001b[1m54/54\u001b[0m \u001b[32m━━━━━━━━━━━━━━━━━━━━\u001b[0m\u001b[37m\u001b[0m \u001b[1m1s\u001b[0m 8ms/step - loss: 0.0143 - mae: 0.0897 - val_loss: 0.0467 - val_mae: 0.1765\n",
      "Epoch 27/55\n",
      "\u001b[1m54/54\u001b[0m \u001b[32m━━━━━━━━━━━━━━━━━━━━\u001b[0m\u001b[37m\u001b[0m \u001b[1m0s\u001b[0m 7ms/step - loss: 0.0148 - mae: 0.0922 - val_loss: 0.0528 - val_mae: 0.1899\n",
      "Epoch 28/55\n",
      "\u001b[1m54/54\u001b[0m \u001b[32m━━━━━━━━━━━━━━━━━━━━\u001b[0m\u001b[37m\u001b[0m \u001b[1m1s\u001b[0m 5ms/step - loss: 0.0155 - mae: 0.0962 - val_loss: 0.0446 - val_mae: 0.1690\n",
      "Epoch 29/55\n",
      "\u001b[1m54/54\u001b[0m \u001b[32m━━━━━━━━━━━━━━━━━━━━\u001b[0m\u001b[37m\u001b[0m \u001b[1m1s\u001b[0m 4ms/step - loss: 0.0138 - mae: 0.0918 - val_loss: 0.0373 - val_mae: 0.1384\n",
      "Epoch 30/55\n",
      "\u001b[1m54/54\u001b[0m \u001b[32m━━━━━━━━━━━━━━━━━━━━\u001b[0m\u001b[37m\u001b[0m \u001b[1m0s\u001b[0m 4ms/step - loss: 0.0150 - mae: 0.0937 - val_loss: 0.0402 - val_mae: 0.1341\n",
      "Epoch 31/55\n",
      "\u001b[1m54/54\u001b[0m \u001b[32m━━━━━━━━━━━━━━━━━━━━\u001b[0m\u001b[37m\u001b[0m \u001b[1m0s\u001b[0m 4ms/step - loss: 0.0140 - mae: 0.0927 - val_loss: 0.0378 - val_mae: 0.1361\n",
      "Epoch 32/55\n",
      "\u001b[1m54/54\u001b[0m \u001b[32m━━━━━━━━━━━━━━━━━━━━\u001b[0m\u001b[37m\u001b[0m \u001b[1m0s\u001b[0m 4ms/step - loss: 0.0142 - mae: 0.0913 - val_loss: 0.0436 - val_mae: 0.1582\n",
      "Epoch 33/55\n",
      "\u001b[1m54/54\u001b[0m \u001b[32m━━━━━━━━━━━━━━━━━━━━\u001b[0m\u001b[37m\u001b[0m \u001b[1m0s\u001b[0m 4ms/step - loss: 0.0146 - mae: 0.0938 - val_loss: 0.0385 - val_mae: 0.1432\n",
      "Epoch 34/55\n",
      "\u001b[1m54/54\u001b[0m \u001b[32m━━━━━━━━━━━━━━━━━━━━\u001b[0m\u001b[37m\u001b[0m \u001b[1m0s\u001b[0m 5ms/step - loss: 0.0139 - mae: 0.0919 - val_loss: 0.0558 - val_mae: 0.1999\n",
      "Epoch 35/55\n",
      "\u001b[1m54/54\u001b[0m \u001b[32m━━━━━━━━━━━━━━━━━━━━\u001b[0m\u001b[37m\u001b[0m \u001b[1m0s\u001b[0m 4ms/step - loss: 0.0152 - mae: 0.0960 - val_loss: 0.0421 - val_mae: 0.1524\n",
      "Epoch 36/55\n",
      "\u001b[1m54/54\u001b[0m \u001b[32m━━━━━━━━━━━━━━━━━━━━\u001b[0m\u001b[37m\u001b[0m \u001b[1m0s\u001b[0m 4ms/step - loss: 0.0145 - mae: 0.0938 - val_loss: 0.0383 - val_mae: 0.1358\n",
      "Epoch 37/55\n",
      "\u001b[1m54/54\u001b[0m \u001b[32m━━━━━━━━━━━━━━━━━━━━\u001b[0m\u001b[37m\u001b[0m \u001b[1m0s\u001b[0m 4ms/step - loss: 0.0150 - mae: 0.0959 - val_loss: 0.0414 - val_mae: 0.1554\n",
      "Epoch 38/55\n",
      "\u001b[1m54/54\u001b[0m \u001b[32m━━━━━━━━━━━━━━━━━━━━\u001b[0m\u001b[37m\u001b[0m \u001b[1m0s\u001b[0m 4ms/step - loss: 0.0137 - mae: 0.0891 - val_loss: 0.0406 - val_mae: 0.1491\n",
      "Epoch 39/55\n",
      "\u001b[1m54/54\u001b[0m \u001b[32m━━━━━━━━━━━━━━━━━━━━\u001b[0m\u001b[37m\u001b[0m \u001b[1m0s\u001b[0m 3ms/step - loss: 0.0132 - mae: 0.0884 - val_loss: 0.0464 - val_mae: 0.1694\n",
      "Epoch 40/55\n",
      "\u001b[1m54/54\u001b[0m \u001b[32m━━━━━━━━━━━━━━━━━━━━\u001b[0m\u001b[37m\u001b[0m \u001b[1m0s\u001b[0m 4ms/step - loss: 0.0142 - mae: 0.0932 - val_loss: 0.0466 - val_mae: 0.1713\n",
      "Epoch 41/55\n",
      "\u001b[1m54/54\u001b[0m \u001b[32m━━━━━━━━━━━━━━━━━━━━\u001b[0m\u001b[37m\u001b[0m \u001b[1m0s\u001b[0m 4ms/step - loss: 0.0141 - mae: 0.0921 - val_loss: 0.0337 - val_mae: 0.1274\n",
      "Epoch 42/55\n",
      "\u001b[1m54/54\u001b[0m \u001b[32m━━━━━━━━━━━━━━━━━━━━\u001b[0m\u001b[37m\u001b[0m \u001b[1m0s\u001b[0m 4ms/step - loss: 0.0144 - mae: 0.0955 - val_loss: 0.0391 - val_mae: 0.1509\n",
      "Epoch 43/55\n",
      "\u001b[1m54/54\u001b[0m \u001b[32m━━━━━━━━━━━━━━━━━━━━\u001b[0m\u001b[37m\u001b[0m \u001b[1m0s\u001b[0m 3ms/step - loss: 0.0131 - mae: 0.0867 - val_loss: 0.0378 - val_mae: 0.1382\n",
      "Epoch 44/55\n",
      "\u001b[1m54/54\u001b[0m \u001b[32m━━━━━━━━━━━━━━━━━━━━\u001b[0m\u001b[37m\u001b[0m \u001b[1m0s\u001b[0m 3ms/step - loss: 0.0148 - mae: 0.0924 - val_loss: 0.0888 - val_mae: 0.2616\n",
      "Epoch 45/55\n",
      "\u001b[1m54/54\u001b[0m \u001b[32m━━━━━━━━━━━━━━━━━━━━\u001b[0m\u001b[37m\u001b[0m \u001b[1m0s\u001b[0m 4ms/step - loss: 0.0154 - mae: 0.0937 - val_loss: 0.0427 - val_mae: 0.1554\n",
      "Epoch 46/55\n",
      "\u001b[1m54/54\u001b[0m \u001b[32m━━━━━━━━━━━━━━━━━━━━\u001b[0m\u001b[37m\u001b[0m \u001b[1m0s\u001b[0m 4ms/step - loss: 0.0154 - mae: 0.0968 - val_loss: 0.0589 - val_mae: 0.2019\n",
      "Epoch 47/55\n",
      "\u001b[1m54/54\u001b[0m \u001b[32m━━━━━━━━━━━━━━━━━━━━\u001b[0m\u001b[37m\u001b[0m \u001b[1m0s\u001b[0m 4ms/step - loss: 0.0134 - mae: 0.0872 - val_loss: 0.0439 - val_mae: 0.1633\n",
      "Epoch 48/55\n",
      "\u001b[1m54/54\u001b[0m \u001b[32m━━━━━━━━━━━━━━━━━━━━\u001b[0m\u001b[37m\u001b[0m \u001b[1m0s\u001b[0m 4ms/step - loss: 0.0175 - mae: 0.1015 - val_loss: 0.0519 - val_mae: 0.1825\n",
      "Epoch 49/55\n",
      "\u001b[1m54/54\u001b[0m \u001b[32m━━━━━━━━━━━━━━━━━━━━\u001b[0m\u001b[37m\u001b[0m \u001b[1m0s\u001b[0m 3ms/step - loss: 0.0120 - mae: 0.0853 - val_loss: 0.0494 - val_mae: 0.1770\n",
      "Epoch 50/55\n",
      "\u001b[1m54/54\u001b[0m \u001b[32m━━━━━━━━━━━━━━━━━━━━\u001b[0m\u001b[37m\u001b[0m \u001b[1m0s\u001b[0m 4ms/step - loss: 0.0126 - mae: 0.0859 - val_loss: 0.0464 - val_mae: 0.1690\n",
      "Epoch 51/55\n",
      "\u001b[1m54/54\u001b[0m \u001b[32m━━━━━━━━━━━━━━━━━━━━\u001b[0m\u001b[37m\u001b[0m \u001b[1m0s\u001b[0m 3ms/step - loss: 0.0149 - mae: 0.0916 - val_loss: 0.0621 - val_mae: 0.2067\n",
      "Epoch 52/55\n",
      "\u001b[1m54/54\u001b[0m \u001b[32m━━━━━━━━━━━━━━━━━━━━\u001b[0m\u001b[37m\u001b[0m \u001b[1m0s\u001b[0m 4ms/step - loss: 0.0149 - mae: 0.0899 - val_loss: 0.0622 - val_mae: 0.2068\n",
      "Epoch 53/55\n",
      "\u001b[1m54/54\u001b[0m \u001b[32m━━━━━━━━━━━━━━━━━━━━\u001b[0m\u001b[37m\u001b[0m \u001b[1m0s\u001b[0m 4ms/step - loss: 0.0143 - mae: 0.0904 - val_loss: 0.0421 - val_mae: 0.1520\n",
      "Epoch 54/55\n",
      "\u001b[1m54/54\u001b[0m \u001b[32m━━━━━━━━━━━━━━━━━━━━\u001b[0m\u001b[37m\u001b[0m \u001b[1m0s\u001b[0m 4ms/step - loss: 0.0146 - mae: 0.0924 - val_loss: 0.0373 - val_mae: 0.1336\n",
      "Epoch 55/55\n",
      "\u001b[1m54/54\u001b[0m \u001b[32m━━━━━━━━━━━━━━━━━━━━\u001b[0m\u001b[37m\u001b[0m \u001b[1m0s\u001b[0m 4ms/step - loss: 0.0130 - mae: 0.0888 - val_loss: 0.0395 - val_mae: 0.1457\n"
     ]
    }
   ],
   "source": [
    "# Train model\n",
    "history = model.fit(X_train_seq, y_train_seq, epochs=55, batch_size=16, validation_data=(X_test_seq, y_test_seq), verbose=1)\n"
   ]
  },
  {
   "cell_type": "code",
   "execution_count": 13,
   "metadata": {
    "colab": {
     "base_uri": "https://localhost:8080/",
     "height": 593
    },
    "id": "sj4MqF7jLjYD",
    "outputId": "d2be3ce7-d190-4e90-c23d-8bd5fce318cc"
   },
   "outputs": [
    {
     "name": "stdout",
     "output_type": "stream",
     "text": [
      "\u001b[1m27/27\u001b[0m \u001b[32m━━━━━━━━━━━━━━━━━━━━\u001b[0m\u001b[37m\u001b[0m \u001b[1m0s\u001b[0m 2ms/step - loss: 0.0064 - mae: 0.0626 \n",
      "\u001b[1m5/5\u001b[0m \u001b[32m━━━━━━━━━━━━━━━━━━━━\u001b[0m\u001b[37m\u001b[0m \u001b[1m0s\u001b[0m 5ms/step - loss: 0.0293 - mae: 0.1299 \n",
      "Scaled Train Loss mse, mae: [0.00728594558313489, 0.06633659452199936], Scaled Test Loss mse, Test mae: [0.0394957959651947, 0.14568057656288147]\n",
      "\u001b[1m5/5\u001b[0m \u001b[32m━━━━━━━━━━━━━━━━━━━━\u001b[0m\u001b[37m\u001b[0m \u001b[1m0s\u001b[0m 6ms/step \n",
      "Test MAE (£): 5.0288\n",
      "Test RMSE (£): 6.8602\n",
      "R² Score: 0.8250\n"
     ]
    },
    {
     "data": {
      "image/png": "[encoded data removed]",
      "text/plain": [
       "<Figure size 1000x500 with 1 Axes>"
      ]
     },
     "metadata": {},
     "output_type": "display_data"
    }
   ],
   "source": [
    "import matplotlib.pyplot as plt\n",
    "from sklearn.metrics import mean_absolute_error, mean_squared_error, r2_score\n",
    "\n",
    "\n",
    "# Evaluate model\n",
    "train_loss = model.evaluate(X_train_seq, y_train_seq)\n",
    "test_loss = model.evaluate(X_test_seq, y_test_seq)\n",
    "print(f\"Scaled Train Loss mse, mae: {train_loss}, Scaled Test Loss mse, Test mae: {test_loss}\")\n",
    "\n",
    "# Make predictions\n",
    "y_pred_scaled = model.predict(X_test_seq)\n",
    "\n",
    "# Convert predictions back to original price scale\n",
    "y_pred_original = scaler_y.inverse_transform(y_pred_scaled)\n",
    "\n",
    "# Convert y_test back to original scale for comparison\n",
    "y_test_original = scaler_y.inverse_transform(y_test_seq)\n",
    "\n",
    "# Compute R²\n",
    "mae_real = mean_absolute_error(y_test_original, y_pred_orignal)\n",
    "rmse_real = np.sqrt(mean_squared_error(y_test_original, y_pred_original))\n",
    "r2 = r2_score(y_test_original, y_pred_original)\n",
    "print(f\"Test real MAE (£): {mae_real:.4f}, Test real RMSE (£): {rmse_real:.4f}\")\n",
    "\n",
    "print(f\"R² Score: {r2:.4f}\")\n",
    "\n",
    "\n",
    "# Plot actual vs predicted\n",
    "plt.figure(figsize=(10, 5))\n",
    "plt.plot(y_test_orignal, label=\"Actual\")\n",
    "plt.plot(y_pred_orignal, label=\"Predicted\")\n",
    "plt.legend()\n",
    "plt.title(\"LSTM Stock Price Prediction\")\n",
    "plt.show()\n"
   ]
  },
  {
   "cell_type": "code",
   "execution_count": null,
   "metadata": {
    "id": "BIrD9A-lUFRA"
   },
   "outputs": [],
   "source": []
  }
 ],
 "metadata": {
  "colab": {
   "provenance": []
  },
  "kernelspec": {
   "display_name": "Python 3",
   "language": "python",
   "name": "python3"
  },
  "language_info": {
   "codemirror_mode": {
    "name": "ipython",
    "version": 3
   },
   "file_extension": ".py",
   "mimetype": "text/x-python",
   "name": "python",
   "nbconvert_exporter": "python",
   "pygments_lexer": "ipython3",
   "version": "3.8.3"
  }
 },
 "nbformat": 4,
 "nbformat_minor": 1
}
