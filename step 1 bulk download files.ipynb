{
 "cells": [
  {
   "cell_type": "code",
   "execution_count": null,
   "metadata": {},
   "outputs": [],
   "source": [
    "#Author: Yiying Jiao\n",
    "#Step1: donwload csv files from GDELT database(Global Database of Events, Language, and Tone)"
   ]
  },
  {
   "cell_type": "code",
   "execution_count": 1,
   "metadata": {},
   "outputs": [],
   "source": [
    "import requests\n",
    "from bs4 import BeautifulSoup\n",
    "import os\n",
    "import re\n",
    "\n",
    "# Base URL and index page\n",
    "base_url = \"http://data.gdeltproject.org/events/\"\n",
    "index_url = base_url + \"index.html\"\n",
    "\n",
    "# Fetch the index page\n",
    "response = requests.get(index_url)\n",
    "if response.status_code != 200:\n",
    "    raise Exception(\"Failed to fetch the webpage.\")\n",
    "\n",
    "# Parse the HTML\n",
    "soup = BeautifulSoup(response.text, 'html.parser')\n",
    "\n",
    "# The filenames pattern \"YYYYMMDD.export.CSV.zip\"\n",
    "pattern = re.compile(r\"(\\d{8})\\.export\\.CSV\\.zip$\")\n",
    "\n",
    "# Set date range boundaries as strings (YYYYMMDD format)\n",
    "start_date = \"20250405\"\n",
    "end_date = \"20250512\"\n"
   ]
  },
  {
   "cell_type": "code",
   "execution_count": 2,
   "metadata": {},
   "outputs": [
    {
     "name": "stdout",
     "output_type": "stream",
     "text": [
      "Found 37 files in the date range:\n"
     ]
    }
   ],
   "source": [
    "\n",
    "filtered_links = []\n",
    "# Loop through all <a> tags and filter the ones that match our pattern and date range\n",
    "for link in soup.find_all('a'):\n",
    "    href = link.get('href')\n",
    "    if href:\n",
    "        match = pattern.search(href)\n",
    "        if match:\n",
    "            date_str = match.group(1)\n",
    "            # Simple string comparison works because of YYYYMMDD format\n",
    "            if start_date <= date_str <= end_date:\n",
    "                filtered_links.append(href)\n",
    "\n",
    "print(f\"Found {len(filtered_links)} files in the date range:\")\n",
    "\n",
    "# Create a directory to store the downloaded files\n",
    "os.makedirs(\"csv_files_20250405-20250512\", exist_ok=True)\n"
   ]
  },
  {
   "cell_type": "code",
   "execution_count": 3,
   "metadata": {},
   "outputs": [
    {
     "name": "stdout",
     "output_type": "stream",
     "text": [
      "Downloading http://data.gdeltproject.org/events/20250511.export.CSV.zip...\n",
      "Downloading http://data.gdeltproject.org/events/20250510.export.CSV.zip...\n",
      "Downloading http://data.gdeltproject.org/events/20250509.export.CSV.zip...\n",
      "Downloading http://data.gdeltproject.org/events/20250508.export.CSV.zip...\n",
      "Downloading http://data.gdeltproject.org/events/20250507.export.CSV.zip...\n",
      "Downloading http://data.gdeltproject.org/events/20250506.export.CSV.zip...\n",
      "Downloading http://data.gdeltproject.org/events/20250505.export.CSV.zip...\n",
      "Downloading http://data.gdeltproject.org/events/20250504.export.CSV.zip...\n",
      "Downloading http://data.gdeltproject.org/events/20250503.export.CSV.zip...\n",
      "Downloading http://data.gdeltproject.org/events/20250502.export.CSV.zip...\n",
      "Downloading http://data.gdeltproject.org/events/20250501.export.CSV.zip...\n",
      "Downloading http://data.gdeltproject.org/events/20250430.export.CSV.zip...\n",
      "Downloading http://data.gdeltproject.org/events/20250429.export.CSV.zip...\n",
      "Downloading http://data.gdeltproject.org/events/20250428.export.CSV.zip...\n",
      "Downloading http://data.gdeltproject.org/events/20250427.export.CSV.zip...\n",
      "Downloading http://data.gdeltproject.org/events/20250426.export.CSV.zip...\n",
      "Downloading http://data.gdeltproject.org/events/20250425.export.CSV.zip...\n",
      "Downloading http://data.gdeltproject.org/events/20250424.export.CSV.zip...\n",
      "Downloading http://data.gdeltproject.org/events/20250423.export.CSV.zip...\n",
      "Downloading http://data.gdeltproject.org/events/20250422.export.CSV.zip...\n",
      "Downloading http://data.gdeltproject.org/events/20250421.export.CSV.zip...\n",
      "Downloading http://data.gdeltproject.org/events/20250420.export.CSV.zip...\n",
      "Downloading http://data.gdeltproject.org/events/20250419.export.CSV.zip...\n",
      "Downloading http://data.gdeltproject.org/events/20250418.export.CSV.zip...\n",
      "Downloading http://data.gdeltproject.org/events/20250417.export.CSV.zip...\n",
      "Downloading http://data.gdeltproject.org/events/20250416.export.CSV.zip...\n",
      "Downloading http://data.gdeltproject.org/events/20250415.export.CSV.zip...\n",
      "Downloading http://data.gdeltproject.org/events/20250414.export.CSV.zip...\n",
      "Downloading http://data.gdeltproject.org/events/20250413.export.CSV.zip...\n",
      "Downloading http://data.gdeltproject.org/events/20250412.export.CSV.zip...\n",
      "Downloading http://data.gdeltproject.org/events/20250411.export.CSV.zip...\n",
      "Downloading http://data.gdeltproject.org/events/20250410.export.CSV.zip...\n",
      "Downloading http://data.gdeltproject.org/events/20250409.export.CSV.zip...\n",
      "Downloading http://data.gdeltproject.org/events/20250408.export.CSV.zip...\n",
      "Downloading http://data.gdeltproject.org/events/20250407.export.CSV.zip...\n",
      "Downloading http://data.gdeltproject.org/events/20250406.export.CSV.zip...\n",
      "Downloading http://data.gdeltproject.org/events/20250405.export.CSV.zip...\n",
      "Download complete!\n"
     ]
    }
   ],
   "source": [
    "\n",
    "# Download each file\n",
    "for file_name in filtered_links:\n",
    "    file_url = base_url + file_name  # Construct full URL\n",
    "    file_path = os.path.join(\"csv_files_20250405-20250512\", file_name)\n",
    "    print(f\"Downloading {file_url}...\")\n",
    "    \n",
    "    file_response = requests.get(file_url)\n",
    "    if file_response.status_code == 200:\n",
    "        with open(file_path, 'wb') as f:\n",
    "            f.write(file_response.content)\n",
    "    else:\n",
    "        print(f\"Failed to download {file_url}\")\n",
    "\n",
    "print(\"Download complete!\")\n"
   ]
  }
 ],
 "metadata": {
  "kernelspec": {
   "display_name": "Python 3",
   "language": "python",
   "name": "python3"
  },
  "language_info": {
   "codemirror_mode": {
    "name": "ipython",
    "version": 3
   },
   "file_extension": ".py",
   "mimetype": "text/x-python",
   "name": "python",
   "nbconvert_exporter": "python",
   "pygments_lexer": "ipython3",
   "version": "3.8.3"
  }
 },
 "nbformat": 4,
 "nbformat_minor": 4
}
