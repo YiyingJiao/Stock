{
 "cells": [
  {
   "cell_type": "code",
   "execution_count": null,
   "metadata": {},
   "outputs": [],
   "source": [
    "#Author: Yiying Jiao"
   ]
  },
  {
   "cell_type": "code",
   "execution_count": 1,
   "metadata": {},
   "outputs": [
    {
     "name": "stderr",
     "output_type": "stream",
     "text": [
      "[nltk_data] Error loading vader_lexicon: <urlopen error [SSL:\n",
      "[nltk_data]     CERTIFICATE_VERIFY_FAILED] certificate verify failed:\n",
      "[nltk_data]     unable to get local issuer certificate (_ssl.c:1108)>\n"
     ]
    },
    {
     "data": {
      "text/plain": [
       "False"
      ]
     },
     "execution_count": 1,
     "metadata": {},
     "output_type": "execute_result"
    }
   ],
   "source": [
    "import os\n",
    "import pandas as pd\n",
    "import re"
   ]
  },
  {
   "cell_type": "code",
   "execution_count": 2,
   "metadata": {},
   "outputs": [
    {
     "data": {
      "text/html": [
       "<div>\n",
       "<style scoped>\n",
       "    .dataframe tbody tr th:only-of-type {\n",
       "        vertical-align: middle;\n",
       "    }\n",
       "\n",
       "    .dataframe tbody tr th {\n",
       "        vertical-align: top;\n",
       "    }\n",
       "\n",
       "    .dataframe thead th {\n",
       "        text-align: right;\n",
       "    }\n",
       "</style>\n",
       "<table border=\"1\" class=\"dataframe\">\n",
       "  <thead>\n",
       "    <tr style=\"text-align: right;\">\n",
       "      <th></th>\n",
       "      <th>date</th>\n",
       "      <th>url</th>\n",
       "    </tr>\n",
       "  </thead>\n",
       "  <tbody>\n",
       "    <tr>\n",
       "      <th>0</th>\n",
       "      <td>20250302</td>\n",
       "      <td>https://www.areadevelopment.com/newsitems/3-1-...</td>\n",
       "    </tr>\n",
       "    <tr>\n",
       "      <th>1</th>\n",
       "      <td>20250302</td>\n",
       "      <td>https://www.slashfilm.com/1796936/apple-tv-plu...</td>\n",
       "    </tr>\n",
       "    <tr>\n",
       "      <th>2</th>\n",
       "      <td>20250302</td>\n",
       "      <td>https://trak.in/stories/apple-refuses-to-cance...</td>\n",
       "    </tr>\n",
       "    <tr>\n",
       "      <th>3</th>\n",
       "      <td>20250302</td>\n",
       "      <td>https://www.naturalnews.com/2025-03-01-apple-s...</td>\n",
       "    </tr>\n",
       "    <tr>\n",
       "      <th>4</th>\n",
       "      <td>20250302</td>\n",
       "      <td>https://www.candgnews.com/news/sheetz-to-repla...</td>\n",
       "    </tr>\n",
       "    <tr>\n",
       "      <th>5</th>\n",
       "      <td>20250302</td>\n",
       "      <td>https://www.techradar.com/health-fitness/smart...</td>\n",
       "    </tr>\n",
       "    <tr>\n",
       "      <th>6</th>\n",
       "      <td>20250302</td>\n",
       "      <td>https://www.livemint.com/opinion/online-views/...</td>\n",
       "    </tr>\n",
       "    <tr>\n",
       "      <th>7</th>\n",
       "      <td>20250302</td>\n",
       "      <td>https://www.digitaltrends.com/mobile/apple-int...</td>\n",
       "    </tr>\n",
       "  </tbody>\n",
       "</table>\n",
       "</div>"
      ]
     },
     "execution_count": 2,
     "metadata": {},
     "output_type": "execute_result"
    }
   ],
   "source": [
    "\n",
    "#this function takes in a path which leads to a csv file in my local directory\n",
    "#strip the dataframe to only a date column and an url column, of unique rows that only mention\n",
    "#apple(as a whole word)\n",
    "\n",
    "def proccess_csv (path):\n",
    "    df = pd.read_csv(path, on_bad_lines=\"skip\", sep='\\t')\n",
    "\n",
    "\n",
    "    #--------extract relevanet columns------\n",
    "    df = df.iloc[:, [1, (len(df.columns)-1)]]# Selects the 2nd and last columns\n",
    "\n",
    "    # Step 1: Save the current column row (the mistaken column names)\n",
    "    header_values = df.columns.tolist()  #get the current columns names(who are the first row)\n",
    "\n",
    "    # Step 2: Create a DataFrame row from the column values\n",
    "    header_df = pd.DataFrame([header_values], columns=df.columns)\n",
    "\n",
    "    # Step 3: Concatenate the first row with the original DataFrame\n",
    "    df_corrected = pd.concat([header_df, df], ignore_index=True)\n",
    "\n",
    "    # Now assign new column names\n",
    "    new_column_names = [\"date\", \"url\"]\n",
    "    df_corrected.columns = new_column_names\n",
    "\n",
    "    #rename for similicity\n",
    "    df=df_corrected.copy()\n",
    "\n",
    "    #----------filter---------\n",
    "    #filter for mention of apple(as a whole word)\n",
    "    filtered_df = df[df['url'].str.contains(r'\\bapple\\b', case=False, na=False, regex=True)]\n",
    "    \n",
    "    #filter to get rid of all duplicate links\n",
    "    filtered_df = filtered_df.copy()\n",
    "    filtered_df.drop_duplicates(subset='url', keep=\"first\", inplace=True)\n",
    "    \n",
    "    #drop the index so it can be ready to concatenate into the big dataframe\n",
    "    filtered_df = filtered_df.reset_index(drop=True)\n",
    "    return filtered_df\n",
    "\n"
   ]
  },
  {
   "cell_type": "code",
   "execution_count": null,
   "metadata": {
    "scrolled": false
   },
   "outputs": [
    {
     "name": "stderr",
     "output_type": "stream",
     "text": [
      "<ipython-input-2-b1834ba9903c>:9: DtypeWarning: Columns (14,24) have mixed types. Specify dtype option on import or set low_memory=False.\n",
      "  df = pd.read_csv(path, on_bad_lines=\"skip\", sep='\\t')\n",
      "<ipython-input-2-b1834ba9903c>:9: DtypeWarning: Columns (14,24) have mixed types. Specify dtype option on import or set low_memory=False.\n",
      "  df = pd.read_csv(path, on_bad_lines=\"skip\", sep='\\t')\n",
      "<ipython-input-2-b1834ba9903c>:9: DtypeWarning: Columns (14) have mixed types. Specify dtype option on import or set low_memory=False.\n",
      "  df = pd.read_csv(path, on_bad_lines=\"skip\", sep='\\t')\n",
      "<ipython-input-2-b1834ba9903c>:9: DtypeWarning: Columns (24) have mixed types. Specify dtype option on import or set low_memory=False.\n",
      "  df = pd.read_csv(path, on_bad_lines=\"skip\", sep='\\t')\n",
      "<ipython-input-2-b1834ba9903c>:9: DtypeWarning: Columns (14,24) have mixed types. Specify dtype option on import or set low_memory=False.\n",
      "  df = pd.read_csv(path, on_bad_lines=\"skip\", sep='\\t')\n",
      "<ipython-input-2-b1834ba9903c>:9: DtypeWarning: Columns (11,14,24) have mixed types. Specify dtype option on import or set low_memory=False.\n",
      "  df = pd.read_csv(path, on_bad_lines=\"skip\", sep='\\t')\n",
      "<ipython-input-2-b1834ba9903c>:9: DtypeWarning: Columns (24) have mixed types. Specify dtype option on import or set low_memory=False.\n",
      "  df = pd.read_csv(path, on_bad_lines=\"skip\", sep='\\t')\n",
      "<ipython-input-2-b1834ba9903c>:9: DtypeWarning: Columns (26,27,28) have mixed types. Specify dtype option on import or set low_memory=False.\n",
      "  df = pd.read_csv(path, on_bad_lines=\"skip\", sep='\\t')\n",
      "<ipython-input-2-b1834ba9903c>:9: DtypeWarning: Columns (14,19,24) have mixed types. Specify dtype option on import or set low_memory=False.\n",
      "  df = pd.read_csv(path, on_bad_lines=\"skip\", sep='\\t')\n",
      "<ipython-input-2-b1834ba9903c>:9: DtypeWarning: Columns (14) have mixed types. Specify dtype option on import or set low_memory=False.\n",
      "  df = pd.read_csv(path, on_bad_lines=\"skip\", sep='\\t')\n",
      "<ipython-input-2-b1834ba9903c>:9: DtypeWarning: Columns (14,24) have mixed types. Specify dtype option on import or set low_memory=False.\n",
      "  df = pd.read_csv(path, on_bad_lines=\"skip\", sep='\\t')\n",
      "<ipython-input-2-b1834ba9903c>:9: DtypeWarning: Columns (14,24) have mixed types. Specify dtype option on import or set low_memory=False.\n",
      "  df = pd.read_csv(path, on_bad_lines=\"skip\", sep='\\t')\n",
      "<ipython-input-2-b1834ba9903c>:9: DtypeWarning: Columns (24) have mixed types. Specify dtype option on import or set low_memory=False.\n",
      "  df = pd.read_csv(path, on_bad_lines=\"skip\", sep='\\t')\n",
      "<ipython-input-2-b1834ba9903c>:9: DtypeWarning: Columns (14,24) have mixed types. Specify dtype option on import or set low_memory=False.\n",
      "  df = pd.read_csv(path, on_bad_lines=\"skip\", sep='\\t')\n",
      "<ipython-input-2-b1834ba9903c>:9: DtypeWarning: Columns (24) have mixed types. Specify dtype option on import or set low_memory=False.\n",
      "  df = pd.read_csv(path, on_bad_lines=\"skip\", sep='\\t')\n",
      "<ipython-input-2-b1834ba9903c>:9: DtypeWarning: Columns (24) have mixed types. Specify dtype option on import or set low_memory=False.\n",
      "  df = pd.read_csv(path, on_bad_lines=\"skip\", sep='\\t')\n",
      "<ipython-input-2-b1834ba9903c>:9: DtypeWarning: Columns (14,24) have mixed types. Specify dtype option on import or set low_memory=False.\n",
      "  df = pd.read_csv(path, on_bad_lines=\"skip\", sep='\\t')\n",
      "<ipython-input-2-b1834ba9903c>:9: DtypeWarning: Columns (14,24) have mixed types. Specify dtype option on import or set low_memory=False.\n",
      "  df = pd.read_csv(path, on_bad_lines=\"skip\", sep='\\t')\n",
      "<ipython-input-2-b1834ba9903c>:9: DtypeWarning: Columns (24) have mixed types. Specify dtype option on import or set low_memory=False.\n",
      "  df = pd.read_csv(path, on_bad_lines=\"skip\", sep='\\t')\n",
      "<ipython-input-2-b1834ba9903c>:9: DtypeWarning: Columns (14,24) have mixed types. Specify dtype option on import or set low_memory=False.\n",
      "  df = pd.read_csv(path, on_bad_lines=\"skip\", sep='\\t')\n"
     ]
    }
   ],
   "source": [
    "\n",
    "# Directory containing the CSV files\n",
    "directory_path = \"/Users/jiao/projects/csv_files_2023\"\n",
    "\n",
    "# Get all CSV files in the directory in a list\n",
    "csv_file_list = [f for f in os.listdir(directory_path) if f.endswith(\".CSV\")]\n",
    "\n",
    "main_df = pd.DataFrame()\n",
    "\n",
    "# iterate through each csv, process each and save output\n",
    "for file in csv_file_list:\n",
    "    file_path = os.path.join(directory_path, file)  # Full path to the file\n",
    "    # run the functionn, process the CSV\n",
    "    curr_df = proccess_csv(file_path)\n",
    "    urls = curr_df['url']\n",
    "    curr_df['url'].fillna('', inplace=True)\n",
    "    main_df = pd.concat([main_df, curr_df], ignore_index=True)\n"
   ]
  },
  {
   "cell_type": "code",
   "execution_count": null,
   "metadata": {},
   "outputs": [],
   "source": [
    "print(main_df)"
   ]
  },
  {
   "cell_type": "code",
   "execution_count": null,
   "metadata": {},
   "outputs": [],
   "source": [
    "main_df.to_csv(\"/Users/jiao/projects/23_main_df.csv\", index=False)\n"
   ]
  },
  {
   "cell_type": "code",
   "execution_count": null,
   "metadata": {},
   "outputs": [],
   "source": []
  },
  {
   "cell_type": "code",
   "execution_count": null,
   "metadata": {},
   "outputs": [],
   "source": []
  },
  {
   "cell_type": "code",
   "execution_count": null,
   "metadata": {},
   "outputs": [],
   "source": []
  },
  {
   "cell_type": "code",
   "execution_count": null,
   "metadata": {},
   "outputs": [],
   "source": []
  },
  {
   "cell_type": "code",
   "execution_count": null,
   "metadata": {},
   "outputs": [],
   "source": []
  }
 ],
 "metadata": {
  "kernelspec": {
   "display_name": "Python 3",
   "language": "python",
   "name": "python3"
  },
  "language_info": {
   "codemirror_mode": {
    "name": "ipython",
    "version": 3
   },
   "file_extension": ".py",
   "mimetype": "text/x-python",
   "name": "python",
   "nbconvert_exporter": "python",
   "pygments_lexer": "ipython3",
   "version": "3.8.3"
  }
 },
 "nbformat": 4,
 "nbformat_minor": 4
}
